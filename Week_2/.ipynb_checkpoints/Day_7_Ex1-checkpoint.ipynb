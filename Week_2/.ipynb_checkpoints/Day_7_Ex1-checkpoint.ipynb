{
 "cells": [
  {
   "cell_type": "code",
   "execution_count": null,
   "id": "ecd2843b-1242-4afc-9106-a9c60adfd86f",
   "metadata": {},
   "outputs": [],
   "source": [
    "#Import modules\n",
    "import matplotlib.pyplot as plt\n",
    "import seaborn as sns\n",
    "import numpy as np\n",
    "import pandas as pd\n",
    "import plotly.express as px\n",
    "\n",
    "#load read count dataset\n",
    "rc_df = pd.read_csv(\"2.2a_ex1_featurecounts.tsv\",sep=\"\\t\",comment='#')\n",
    "rc_df"
   ]
  },
  {
   "cell_type": "code",
   "execution_count": null,
   "id": "0f639d4a-1ac8-4221-9e91-a249fa234725",
   "metadata": {},
   "outputs": [],
   "source": [
    "#Rename columns and remove unwanted columns (Chr, Start, End, Strand, Length)\n",
    "rc_df2 = rc_df.drop(['Chr','Start','End','Strand','Length'],axis=1)\n",
    "\n",
    "rc_df2.rename(columns={'bam/RS411-nasc-1.bam':'RS411-1','bam/RS411-nasc-2.bam':'RS411-2','bam/RS411-nasc-3.bam':'RS411-3',\n",
    "                      'bam/SEM-nasc-1.bam':'SEM-1','bam/SEM-nasc-2.bam':'SEM-2','bam/SEM-nasc-3.bam':'SEM-3'},inplace=True)\n",
    "rc_df2"
   ]
  },
  {
   "cell_type": "code",
   "execution_count": null,
   "id": "7a90ce8b-7f3c-4eb2-813f-ff5cbcd27f00",
   "metadata": {},
   "outputs": [],
   "source": [
    "#Filter out genes with no counts\n",
    "#iloc / loc and sum\n",
    "rc_df2=rc_df2.set_index('Geneid')\n",
    "#rc_df2['total'] = rc_df2['RS411-1']+rc_df2['RS411-2']+rc_df2['RS411-3']+rc_df2['SEM-1']+rc_df2['SEM-2']+rc_df2['SEM-3']\n",
    "rc_df2['total'] = rc_df2.sum(axis=1)\n",
    "#rc_df2\n",
    "\n",
    "mask = (rc_df2['total'] > 1000)\n",
    "mask.to_frame()\n",
    "rc_df3 = rc_df2[mask]\n",
    "rc_df3\n",
    "rc_df4=rc_df3.drop('total',axis=1)\n",
    "rc_df4"
   ]
  },
  {
   "cell_type": "code",
   "execution_count": null,
   "id": "27734aa6-6915-4c65-9148-580ffb663f6d",
   "metadata": {},
   "outputs": [],
   "source": [
    "#Plot scatter plot of correlation of replicates\n",
    "#scatter_df = plotly.data.rc_df4()\n",
    "#sns.scatterplot(data=rc_df4, x='RS411-1', y='RS411-2')\n",
    "RS411_df=rc_df4[['RS411-1','RS411-2','RS411-3']]\n",
    "sns.pairplot(data=RS411_df)\n",
    "SEM_df=rc_df4[['SEM-1','SEM-2','SEM-3']]\n",
    "sns.pairplot(data=SEM_df)"
   ]
  },
  {
   "cell_type": "code",
   "execution_count": null,
   "id": "7f4f5a13-493b-4742-8bce-a9df84a30c77",
   "metadata": {},
   "outputs": [],
   "source": [
    "#Tidy data\n",
    "#long form\n",
    "tidy_df=rc_df4.reset_index().melt(id_vars='Geneid',var_name='sample',value_name='count')\n",
    "tidy_df\n",
    "#wide form\n",
    "#wide_df=tidy_df.pivot(index='geneid',columns='variable',values='values')"
   ]
  },
  {
   "cell_type": "code",
   "execution_count": null,
   "id": "52c0bd88-11f6-43de-9bca-a8f41c4e1347",
   "metadata": {},
   "outputs": [],
   "source": [
    "#Plot histogram and density plot of read counts across all samples\n",
    "sns.histplot(data=tidy_df,x='count')\n",
    "plt.xlim(0,1000)"
   ]
  },
  {
   "cell_type": "code",
   "execution_count": null,
   "id": "99443130-e36d-4caf-a06c-27d9d8e9d9ab",
   "metadata": {},
   "outputs": [],
   "source": [
    "#Plot a violin plot of read counts per sample\n",
    "sns.violinplot(data=tidy_df,x='sample',y='count')\n",
    "plt.ylim(0,5000)"
   ]
  },
  {
   "cell_type": "code",
   "execution_count": null,
   "id": "ee77db0e-c3ad-4745-9bc5-0d409212ae0f",
   "metadata": {},
   "outputs": [],
   "source": [
    "#Identify 10 genes with highest expression in each sample\n",
    "ranked_df=tidy_df.sort_values(['sample','count'],ascending=False).groupby('sample').head(10)\n",
    "top10=ranked_df.drop('count',axis=1)\n",
    "top10=top10.set_index('sample')\n",
    "top10=top10.reset_index()\n",
    "ranking=list(range(1, 11))*6\n",
    "top10['ranking']=ranking\n",
    "top10=top10.set_index('ranking')\n",
    "top10_names=top10.pivot(columns='sample',values='Geneid')\n",
    "top10_names"
   ]
  },
  {
   "cell_type": "code",
   "execution_count": null,
   "id": "577479f8-259b-4dfc-985a-641ba8f8be2c",
   "metadata": {},
   "outputs": [],
   "source": [
    "#Normalise read counts to total reads per sample and convert to CPM\n",
    "#split_df=tidy_df.groupby('sample').sum()\n",
    "totals=tidy_df.groupby('sample')['count'].transform('sum')\n",
    "tidy_df['totals']=totals\n",
    "#tidy_df.eval('CPM = (count/totals) * 1e6')\n",
    "CPM=tidy_df['count']/tidy_df['totals']*1000000\n",
    "tidy_df['CPM']=CPM\n",
    "#Log transform normalised read counts\n",
    "tidy_df['log']=np.log2(tidy_df['CPM'])\n",
    "tidy_df"
   ]
  },
  {
   "cell_type": "code",
   "execution_count": null,
   "id": "071ee153-3e76-4137-9d9b-e3a9a456e784",
   "metadata": {},
   "outputs": [],
   "source": [
    "#New dataframe of 100 genes with highest average variance in log cpm across conditions\n",
    "variance=tidy_df.groupby('Geneid')['log'].transform(np.var)\n",
    "tidy_df['variance']=variance\n",
    "grouped_variance=tidy_df.groupby('Geneid').mean('variance')\n",
    "grouped_variance\n",
    "top100=grouped_variance.sort_values('variance',ascending=False).head(100)\n",
    "top100=top100['variance'].to_frame()\n",
    "top100"
   ]
  },
  {
   "cell_type": "code",
   "execution_count": null,
   "id": "94ecabc1-178a-4f6a-beb7-c204a4aaf840",
   "metadata": {
    "tags": []
   },
   "outputs": [],
   "source": [
    "#Expression of top 5 most variable genes (log cpm) across all samples\n",
    "top5=top100.reset_index()\n",
    "top5=top5.iloc[:5,0]\n",
    "top5\n"
   ]
  },
  {
   "cell_type": "code",
   "execution_count": null,
   "id": "98bd9651-3c94-400e-9732-db31996f954e",
   "metadata": {},
   "outputs": [],
   "source": [
    "#cpm_lineplot=tidy_df.loc[top5]\n",
    "#make a mask isin\n",
    "cpm_lineplot=tidy_df[tidy_df['Geneid'].isin(top5)]\n",
    "sns.lineplot(data=cpm_lineplot,y='CPM',x='Geneid',hue='sample')"
   ]
  },
  {
   "cell_type": "code",
   "execution_count": null,
   "id": "59fb1cd4-c6f8-4dad-89e5-4ba041932fbd",
   "metadata": {},
   "outputs": [],
   "source": [
    "#Plot a heatmap for top 100 most variable genes (log cpm) across all samples\n",
    "top100list=top100.reset_index()\n",
    "top100list"
   ]
  },
  {
   "cell_type": "code",
   "execution_count": null,
   "id": "37d2a053-a831-4601-a78f-d0fd210a7504",
   "metadata": {},
   "outputs": [],
   "source": [
    "top100_CPM=tidy_df.loc[top100list['Geneid']]\n",
    "top100_heatmap=top100_CPM.pivot(columns='sample',values='CPM')\n",
    "sns.clustermap(data=top100_heatmap,cmap='viridis')"
   ]
  },
  {
   "cell_type": "code",
   "execution_count": null,
   "id": "fe7fc382-9312-49a6-9a16-bd70fa8218ef",
   "metadata": {},
   "outputs": [],
   "source": []
  }
 ],
 "metadata": {
  "kernelspec": {
   "display_name": "Python 3 (ipykernel)",
   "language": "python",
   "name": "python3"
  },
  "language_info": {
   "codemirror_mode": {
    "name": "ipython",
    "version": 3
   },
   "file_extension": ".py",
   "mimetype": "text/x-python",
   "name": "python",
   "nbconvert_exporter": "python",
   "pygments_lexer": "ipython3",
   "version": "3.9.12"
  }
 },
 "nbformat": 4,
 "nbformat_minor": 5
}
